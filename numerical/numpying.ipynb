{
 "cells": [
  {
   "cell_type": "markdown",
   "id": "unique-story",
   "metadata": {
    "tags": []
   },
   "source": [
    "# \\`\\-.\\_ numPy \\_.\\-\\`\n",
    "The aim for this notebook is to familiarize myself with the __numPy library__ a little more."
   ]
  },
  {
   "cell_type": "code",
   "execution_count": 103,
   "id": "unable-jackson",
   "metadata": {
    "tags": []
   },
   "outputs": [],
   "source": [
    "from __future__ import annotations\n",
    "from pprint import pprint\n",
    "from typing import Iterator, Iterable\n",
    "import random\n",
    "import numpy as np\n",
    "import scipy as sp\n",
    "import matplotlib.pyplot as plt"
   ]
  },
  {
   "cell_type": "markdown",
   "id": "occupational-large",
   "metadata": {
    "tags": []
   },
   "source": [
    "#### numPy is all about vectorization.\n",
    "Below is a random walker example using:\n",
    "1. An object oriented approach\n",
    "2. Procedural approach\n",
    "3. Vectorized approach"
   ]
  },
  {
   "cell_type": "markdown",
   "id": "isolated-payroll",
   "metadata": {},
   "source": [
    "#### 1. OO"
   ]
  },
  {
   "cell_type": "code",
   "execution_count": 5,
   "id": "after-balloon",
   "metadata": {},
   "outputs": [],
   "source": [
    "class RandomWalker:\n",
    "    def __init__(self) -> RandomWalker:\n",
    "        self.position: int = 0\n",
    "            \n",
    "    def walk(self, n: int) -> Iterator[int]:\n",
    "        self.position = 0\n",
    "        for i in range(n):\n",
    "            yield self.position\n",
    "            # randomly adds 1 or -1 to self.position\n",
    "            self.position += 2 * random.randint(0, 1) - 1"
   ]
  },
  {
   "cell_type": "code",
   "execution_count": 9,
   "id": "neither-modeling",
   "metadata": {},
   "outputs": [
    {
     "name": "stdout",
     "output_type": "stream",
     "text": [
      "7.08 ms ± 174 µs per loop (mean ± std. dev. of 7 runs, 100 loops each)\n"
     ]
    }
   ],
   "source": [
    "walker = RandomWalker()\n",
    "%timeit for position in walker.walk(n=10000): position"
   ]
  },
  {
   "cell_type": "markdown",
   "id": "correct-burns",
   "metadata": {},
   "source": [
    "#### 2. Proc"
   ]
  },
  {
   "cell_type": "code",
   "execution_count": 10,
   "id": "instructional-warehouse",
   "metadata": {},
   "outputs": [],
   "source": [
    "def random_walk(n):\n",
    "    position: int = 0\n",
    "    walk = [position]\n",
    "    for i in range(n):\n",
    "        position += 2 * random.randint(0, 1) - 1\n",
    "        walk.append(position)\n",
    "    return walk\n",
    "\n",
    "walk = random_walk(1000)"
   ]
  },
  {
   "cell_type": "code",
   "execution_count": 11,
   "id": "otherwise-wireless",
   "metadata": {},
   "outputs": [
    {
     "name": "stdout",
     "output_type": "stream",
     "text": [
      "6.65 ms ± 95.1 µs per loop (mean ± std. dev. of 7 runs, 100 loops each)\n"
     ]
    }
   ],
   "source": [
    "# less time probably due to the inner Python OO machinery\n",
    "%timeit random_walk(n=10000)"
   ]
  },
  {
   "cell_type": "markdown",
   "id": "bottom-pencil",
   "metadata": {},
   "source": [
    "#### 3. Vect"
   ]
  },
  {
   "cell_type": "code",
   "execution_count": 15,
   "id": "fluid-tuition",
   "metadata": {},
   "outputs": [],
   "source": [
    "# creating iterators for efficient looping\n",
    "# rewrite the function by first generating all the steps\n",
    "# and accumulate them without any loop\n",
    "\n",
    "def random_walk_faster(n=1000):\n",
    "    from itertools import accumulate\n",
    "    steps: list[int] = random.choices([-1, +1], k=n)\n",
    "    return [0] + list(accumulate(steps))\n",
    "\n",
    "walk = random_walk_faster(1000)"
   ]
  },
  {
   "cell_type": "code",
   "execution_count": 16,
   "id": "random-regard",
   "metadata": {},
   "outputs": [
    {
     "name": "stdout",
     "output_type": "stream",
     "text": [
      "956 µs ± 3.95 µs per loop (mean ± std. dev. of 7 runs, 1000 loops each)\n"
     ]
    }
   ],
   "source": [
    "%timeit random_walk_faster(n=10000)"
   ]
  },
  {
   "cell_type": "markdown",
   "id": "foster-background",
   "metadata": {},
   "source": [
    "Instead of looping for picking sequential steps and add them to the current position, we first generated all the steps at once and used the `accumulate` function to compute all the positions."
   ]
  },
  {
   "cell_type": "markdown",
   "id": "occupied-ballot",
   "metadata": {},
   "source": [
    "### Anatomy of an array\n",
    "When we want to clear all the values from an array which has dtype `np.float32`, how do we write it to maximize speed?"
   ]
  },
  {
   "cell_type": "code",
   "execution_count": 27,
   "id": "monthly-comment",
   "metadata": {},
   "outputs": [],
   "source": [
    "Z = np.ones(4*1000000, np.float32)\n",
    "Z[...] = 0"
   ]
  },
  {
   "cell_type": "code",
   "execution_count": 32,
   "id": "prepared-forward",
   "metadata": {},
   "outputs": [
    {
     "data": {
      "text/plain": [
       "(4000000, 4)"
      ]
     },
     "execution_count": 32,
     "metadata": {},
     "output_type": "execute_result"
    }
   ],
   "source": [
    "# size -> number of items in array\n",
    "# itemsize -> length of one array item in bytes\n",
    "Z.size, Z.itemsize"
   ]
  },
  {
   "cell_type": "markdown",
   "id": "portuguese-cutting",
   "metadata": {},
   "source": [
    "`a.view(some_dtype)` or `a.view(dtype=some_dtype)` constructs a view of the array’s memory with a different data-type. This can cause a reinterpretation of the bytes of memory.\n",
    "\n",
    "`Z.size * Z.itemsize` can be divided by the new dtype itemsize, due to the array able to be casted into other \"compatible\" data types."
   ]
  },
  {
   "cell_type": "code",
   "execution_count": 31,
   "id": "original-carolina",
   "metadata": {
    "jupyter": {
     "source_hidden": true
    },
    "tags": []
   },
   "outputs": [
    {
     "name": "stdout",
     "output_type": "stream",
     "text": [
      "float16\n",
      "1.87 ms ± 15.2 µs per loop (mean ± std. dev. of 7 runs, 100 loops each)\n",
      "------------------------------------------------------------\n",
      "int16\n",
      "1.91 ms ± 40.5 µs per loop (mean ± std. dev. of 7 runs, 1000 loops each)\n",
      "------------------------------------------------------------\n",
      "int32\n",
      "2.11 ms ± 147 µs per loop (mean ± std. dev. of 7 runs, 100 loops each)\n",
      "------------------------------------------------------------\n",
      "float32\n",
      "1.98 ms ± 52.4 µs per loop (mean ± std. dev. of 7 runs, 1000 loops each)\n",
      "------------------------------------------------------------\n",
      "int64\n",
      "1.91 ms ± 51.7 µs per loop (mean ± std. dev. of 7 runs, 1000 loops each)\n",
      "------------------------------------------------------------\n",
      "float64\n",
      "1.92 ms ± 38.2 µs per loop (mean ± std. dev. of 7 runs, 1000 loops each)\n",
      "------------------------------------------------------------\n",
      "complex128\n",
      "1.92 ms ± 23.8 µs per loop (mean ± std. dev. of 7 runs, 1000 loops each)\n",
      "------------------------------------------------------------\n",
      "int8\n",
      "1.77 ms ± 19 µs per loop (mean ± std. dev. of 7 runs, 1000 loops each)\n"
     ]
    }
   ],
   "source": [
    "dash = lambda: print(\"-\"*60)\n",
    "\n",
    "print(\"float16\")\n",
    "%timeit Z.view(np.float16)[...] = 0\n",
    "dash(); print(\"int16\")\n",
    "%timeit Z.view(np.int16)[...] = 0\n",
    "dash(); print(\"int32\")\n",
    "%timeit Z.view(np.int32)[...] = 0\n",
    "dash(); print(\"float32\")\n",
    "%timeit Z.view(np.float32)[...] = 0\n",
    "dash(); print(\"int64\")\n",
    "%timeit Z.view(np.int64)[...] = 0\n",
    "dash(); print(\"float64\")\n",
    "%timeit Z.view(np.float64)[...] = 0\n",
    "dash(); print(\"complex128\")\n",
    "%timeit Z.view(np.complex128)[...] = 0\n",
    "dash(); print(\"int8\")\n",
    "%timeit Z.view(np.int8)[...] = 0"
   ]
  },
  {
   "cell_type": "markdown",
   "id": "united-pearl",
   "metadata": {},
   "source": [
    "#### Memory layout\n",
    "An instance of class ndarray consists of a contiguous one-dimensional segment of computer memory (owned by the array, or by some other object), combined with an indexing scheme that maps N integers into the location of an item in the block."
   ]
  },
  {
   "cell_type": "code",
   "execution_count": 40,
   "id": "united-wales",
   "metadata": {},
   "outputs": [
    {
     "name": "stdout",
     "output_type": "stream",
     "text": [
      "[[0 1 2]\n",
      " [3 4 5]\n",
      " [6 7 8]]\n",
      "\n",
      "itemsize: 2 \n",
      "shape: (3, 3) \n",
      "ndim: 2\n"
     ]
    }
   ],
   "source": [
    "Z = np.arange(9).reshape(3, 3).astype(np.int16)\n",
    "print(Z)\n",
    "print('\\nitemsize:', Z.itemsize,\n",
    "      '\\nshape:', Z.shape,\n",
    "      '\\nndim:', Z.ndim)"
   ]
  },
  {
   "cell_type": "code",
   "execution_count": 47,
   "id": "alternate-pepper",
   "metadata": {},
   "outputs": [
    {
     "name": "stdout",
     "output_type": "stream",
     "text": [
      "(by row, by column)\n",
      "(6, 2)\n"
     ]
    }
   ],
   "source": [
    "# strides of the array define the number of bytes to step\n",
    "# in each dimension when traversing the array\n",
    "strides = Z.shape[1] * Z.itemsize, Z.itemsize\n",
    "print('(by row, by column)')\n",
    "print(strides) # also exists as Z.strides"
   ]
  },
  {
   "cell_type": "code",
   "execution_count": 50,
   "id": "regional-magic",
   "metadata": {},
   "outputs": [
    {
     "name": "stdout",
     "output_type": "stream",
     "text": [
      "b'\\x04\\x00'\n",
      "b'\\x08\\x00'\n"
     ]
    }
   ],
   "source": [
    "# how to manually index an element in memory\n",
    "index = 1, 1 # location of element as index\n",
    "print(Z[index].tobytes())\n",
    "\n",
    "offset = 0 # start at 0\n",
    "for i in range(Z.ndim): # 2 dim, so [0, 1] where 0 -> row and 1 -> col\n",
    "    offset_start += Z.strides[i]*index[i]\n",
    "offset_end = offset_start + Z.itemsize\n",
    "\n",
    "print(Z.tobytes()[offset_start:offset_end]) # nice"
   ]
  },
  {
   "cell_type": "code",
   "execution_count": 54,
   "id": "responsible-holmes",
   "metadata": {},
   "outputs": [
    {
     "name": "stdout",
     "output_type": "stream",
     "text": [
      "[[0 1 2]\n",
      " [3 4 5]\n",
      " [6 7 8]]\n",
      "[[0 2]\n",
      " [6 8]]\n"
     ]
    }
   ],
   "source": [
    "# if we take a slize of Z, the result is a view of the\n",
    "# base array Z\n",
    "V = Z[::2, ::2]\n",
    "print(Z)\n",
    "print(V)"
   ]
  },
  {
   "cell_type": "markdown",
   "id": "controversial-limit",
   "metadata": {},
   "source": [
    "#### Views and copies\n",
    "Must distinguish between indexing and fancy indexing,\n",
    "the first will return a view while the second will return a copy.\n",
    "The difference is important, because modifying the view modifies the base array, while this is not true for a copy."
   ]
  },
  {
   "cell_type": "code",
   "execution_count": 56,
   "id": "floating-german",
   "metadata": {},
   "outputs": [
    {
     "name": "stdout",
     "output_type": "stream",
     "text": [
      "old:\n",
      "[0. 0. 0. 0. 0. 0. 0. 0. 0.]\n",
      "view modified:\n",
      "[1. 1. 1. 0. 0. 0. 0. 0. 0.]\n"
     ]
    }
   ],
   "source": [
    "Z = np.zeros(9)\n",
    "print(\"old:\")\n",
    "print(Z)\n",
    "Z_view = Z[:3]\n",
    "Z_view[...] = 1\n",
    "print(\"view modified:\")\n",
    "print(Z)"
   ]
  },
  {
   "cell_type": "code",
   "execution_count": 58,
   "id": "imported-devices",
   "metadata": {},
   "outputs": [
    {
     "name": "stdout",
     "output_type": "stream",
     "text": [
      "old:\n",
      "[0. 0. 0. 0. 0. 0. 0. 0. 0.]\n",
      "after modifying copy:\n",
      "[0. 0. 0. 0. 0. 0. 0. 0. 0.]\n"
     ]
    }
   ],
   "source": [
    "Z = np.zeros(9)\n",
    "print(\"old:\")\n",
    "print(Z)\n",
    "Z_copy = Z[[0, 1, 2]] # individual indices\n",
    "# shape of result reflects the shape of the index arrays\n",
    "# rather than the shape of the array being indexed\n",
    "Z_copy[...] = 1\n",
    "print(\"after modifying copy:\")\n",
    "print(Z) # doesn't change"
   ]
  },
  {
   "cell_type": "markdown",
   "id": "synthetic-germany",
   "metadata": {},
   "source": [
    "If you need fancy indexing, it's better to keep a copy of your fancy index (especially if it was complex to compute) and work with it.\n",
    "\n",
    "Examples:"
   ]
  },
  {
   "cell_type": "code",
   "execution_count": 60,
   "id": "dietary-paste",
   "metadata": {},
   "outputs": [
    {
     "data": {
      "text/plain": [
       "array([[ 0,  1,  2,  3],\n",
       "       [ 4,  5,  6,  7],\n",
       "       [ 8,  9, 10, 11]])"
      ]
     },
     "execution_count": 60,
     "metadata": {},
     "output_type": "execute_result"
    }
   ],
   "source": [
    "X = np.arange(12).reshape(3, 4)\n",
    "X"
   ]
  },
  {
   "cell_type": "code",
   "execution_count": 62,
   "id": "recognized-object",
   "metadata": {},
   "outputs": [
    {
     "data": {
      "text/plain": [
       "array([ 2,  5, 11])"
      ]
     },
     "execution_count": 62,
     "metadata": {},
     "output_type": "execute_result"
    }
   ],
   "source": [
    "row = np.array([0, 1, 2])\n",
    "col = np.array([2, 1, 3])\n",
    "X[row, col] # [0, 2] -> 2, which means 0th row, 2nd col"
   ]
  },
  {
   "cell_type": "markdown",
   "id": "horizontal-entity",
   "metadata": {},
   "source": [
    "#### Bried aside: broadcasting\n",
    "For arrays of the same size, binary operations are performed on an element-by-element basis:"
   ]
  },
  {
   "cell_type": "code",
   "execution_count": 64,
   "id": "future-thought",
   "metadata": {},
   "outputs": [
    {
     "data": {
      "text/plain": [
       "array([5, 6, 7])"
      ]
     },
     "execution_count": 64,
     "metadata": {},
     "output_type": "execute_result"
    }
   ],
   "source": [
    "a = np.array([0, 1, 2])\n",
    "b = np.array([5, 5, 5])\n",
    "a + b"
   ]
  },
  {
   "cell_type": "code",
   "execution_count": 65,
   "id": "interracial-schedule",
   "metadata": {},
   "outputs": [
    {
     "data": {
      "text/plain": [
       "array([5, 6, 7])"
      ]
     },
     "execution_count": 65,
     "metadata": {},
     "output_type": "execute_result"
    }
   ],
   "source": [
    "# just as easily add a scalar\n",
    "a + 5"
   ]
  },
  {
   "cell_type": "code",
   "execution_count": 69,
   "id": "distant-shelter",
   "metadata": {},
   "outputs": [
    {
     "data": {
      "text/plain": [
       "array([[1., 1., 1.],\n",
       "       [1., 1., 1.],\n",
       "       [1., 1., 1.]])"
      ]
     },
     "execution_count": 69,
     "metadata": {},
     "output_type": "execute_result"
    }
   ],
   "source": [
    "# when we add a one dimensional array to a 2-dim one...\n",
    "M = np.ones((3, 3))\n",
    "M"
   ]
  },
  {
   "cell_type": "code",
   "execution_count": 71,
   "id": "considered-machinery",
   "metadata": {},
   "outputs": [
    {
     "data": {
      "text/plain": [
       "array([[1., 2., 3.],\n",
       "       [1., 2., 3.],\n",
       "       [1., 2., 3.]])"
      ]
     },
     "execution_count": 71,
     "metadata": {},
     "output_type": "execute_result"
    }
   ],
   "source": [
    "M + a # a is stretched in order to match the shape of M"
   ]
  },
  {
   "cell_type": "code",
   "execution_count": 74,
   "id": "corresponding-somalia",
   "metadata": {},
   "outputs": [
    {
     "name": "stdout",
     "output_type": "stream",
     "text": [
      "[0 1 2]\n",
      "[[0]\n",
      " [1]\n",
      " [2]]\n"
     ]
    }
   ],
   "source": [
    "# consider this example:\n",
    "a = np.arange(3)\n",
    "b = np.arange(3)[:, np.newaxis]\n",
    "\n",
    "print(a)\n",
    "print(b)"
   ]
  },
  {
   "cell_type": "code",
   "execution_count": 76,
   "id": "grave-honduras",
   "metadata": {},
   "outputs": [
    {
     "data": {
      "text/plain": [
       "array([[0, 1, 2],\n",
       "       [1, 2, 3],\n",
       "       [2, 3, 4]])"
      ]
     },
     "execution_count": 76,
     "metadata": {},
     "output_type": "execute_result"
    }
   ],
   "source": [
    "a + b"
   ]
  },
  {
   "cell_type": "markdown",
   "id": "center-mobility",
   "metadata": {},
   "source": [
    "#### What is newaxis??\n",
    "\n",
    "`np.newaxis` is used to increase the dimension of the array by one more dimension, when used *once*. Thus,\n",
    "- 1D array -> 2D array\n",
    "- 2D array -> 3D array\n",
    "\n",
    "and so on..."
   ]
  },
  {
   "cell_type": "code",
   "execution_count": 79,
   "id": "organic-witness",
   "metadata": {},
   "outputs": [
    {
     "name": "stdout",
     "output_type": "stream",
     "text": [
      "[2 0 1 8] (4,)\n"
     ]
    }
   ],
   "source": [
    "A = np.array([2, 0, 1, 8])\n",
    "print(A, A.shape)"
   ]
  },
  {
   "cell_type": "code",
   "execution_count": 84,
   "id": "equal-manchester",
   "metadata": {},
   "outputs": [
    {
     "name": "stdout",
     "output_type": "stream",
     "text": [
      "[[2 0 1 8]] (1, 4)\n"
     ]
    }
   ],
   "source": [
    "A1 = A[np.newaxis, :] # (4,) -> (1, 4)\n",
    "print(A1, A1.shape) "
   ]
  },
  {
   "cell_type": "code",
   "execution_count": 85,
   "id": "touched-positive",
   "metadata": {},
   "outputs": [
    {
     "name": "stdout",
     "output_type": "stream",
     "text": [
      "[[2]\n",
      " [0]\n",
      " [1]\n",
      " [8]] (4, 1)\n"
     ]
    }
   ],
   "source": [
    "A2 = A[:, np.newaxis] # (4,) -> (4, 1)\n",
    "print(A2, A2.shape)"
   ]
  },
  {
   "cell_type": "markdown",
   "id": "recovered-information",
   "metadata": {},
   "source": [
    "Comes in handy when you want to explicitly convert a 1D array to either a row vector or column vector."
   ]
  },
  {
   "cell_type": "code",
   "execution_count": 86,
   "id": "corporate-prague",
   "metadata": {},
   "outputs": [
    {
     "data": {
      "text/plain": [
       "array([[ 0,  1,  2,  3],\n",
       "       [ 4,  5,  6,  7],\n",
       "       [ 8,  9, 10, 11]])"
      ]
     },
     "execution_count": 86,
     "metadata": {},
     "output_type": "execute_result"
    }
   ],
   "source": [
    "X"
   ]
  },
  {
   "cell_type": "code",
   "execution_count": 87,
   "id": "accessible-blond",
   "metadata": {},
   "outputs": [
    {
     "data": {
      "text/plain": [
       "(array([0, 1, 2]), array([2, 1, 3]))"
      ]
     },
     "execution_count": 87,
     "metadata": {},
     "output_type": "execute_result"
    }
   ],
   "source": [
    "row, col"
   ]
  },
  {
   "cell_type": "code",
   "execution_count": 89,
   "id": "bright-distance",
   "metadata": {},
   "outputs": [
    {
     "data": {
      "text/plain": [
       "array([[ 2,  1,  3],\n",
       "       [ 6,  5,  7],\n",
       "       [10,  9, 11]])"
      ]
     },
     "execution_count": 89,
     "metadata": {},
     "output_type": "execute_result"
    }
   ],
   "source": [
    "# each row value is matched with each column vector\n",
    "X[row[:, np.newaxis], col]"
   ]
  },
  {
   "cell_type": "code",
   "execution_count": 111,
   "id": "greatest-gardening",
   "metadata": {},
   "outputs": [
    {
     "data": {
      "text/plain": [
       "array([[0.2, 0.1, 0.3],\n",
       "       [1.2, 1.1, 1.3],\n",
       "       [2.2, 2.1, 2.3]])"
      ]
     },
     "execution_count": 111,
     "metadata": {},
     "output_type": "execute_result"
    }
   ],
   "source": [
    "# indices like so:\n",
    "np.array([[int(str(r) + str(c))*.1 for c in col] for r in row])"
   ]
  },
  {
   "cell_type": "code",
   "execution_count": null,
   "id": "civil-characterization",
   "metadata": {},
   "outputs": [],
   "source": []
  },
  {
   "cell_type": "code",
   "execution_count": null,
   "id": "mighty-bachelor",
   "metadata": {},
   "outputs": [],
   "source": []
  }
 ],
 "metadata": {
  "kernelspec": {
   "display_name": "Python 3",
   "language": "python",
   "name": "python3"
  },
  "language_info": {
   "codemirror_mode": {
    "name": "ipython",
    "version": 3
   },
   "file_extension": ".py",
   "mimetype": "text/x-python",
   "name": "python",
   "nbconvert_exporter": "python",
   "pygments_lexer": "ipython3",
   "version": "3.8.5"
  }
 },
 "nbformat": 4,
 "nbformat_minor": 5
}
